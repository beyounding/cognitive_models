{
  "nbformat": 4,
  "nbformat_minor": 0,
  "metadata": {
    "colab": {
      "provenance": [],
      "authorship_tag": "ABX9TyO4htMuglBv12xWIWQzo2Ps",
      "include_colab_link": true
    },
    "kernelspec": {
      "name": "python3",
      "display_name": "Python 3"
    },
    "language_info": {
      "name": "python"
    }
  },
  "cells": [
    {
      "cell_type": "markdown",
      "metadata": {
        "id": "view-in-github",
        "colab_type": "text"
      },
      "source": [
        "<a href=\"https://colab.research.google.com/github/beyounding/cognitive_models/blob/main/myNeuro_(EM).ipynb\" target=\"_parent\"><img src=\"https://colab.research.google.com/assets/colab-badge.svg\" alt=\"Open In Colab\"/></a>"
      ]
    },
    {
      "cell_type": "markdown",
      "source": [
        "# Model of eye movements in solving a cognitive task in the blank screen paradigm"
      ],
      "metadata": {
        "id": "r9GvB29Z5Viq"
      }
    },
    {
      "cell_type": "code",
      "source": [
        "################### Classifaction of the task and future cognitive state\n",
        "\n",
        "\n",
        "\n",
        "def setup_model(current_fix_duration, current_sac_peak_velocity, stimulus, output_len):\n",
        "    print('The task is \"'+str(stimulus) +'\"')\n",
        "    print('')\n",
        "    print('The possible reflection square is about ' + str(output_len))\n",
        "    print('Probable fixation duration is about ' + str(current_fix_duration))\n",
        "    print('Probable saccade peak velocity is about '+str(current_sac_peak_velocity))\n",
        "\n",
        "def stimulus_classification(stimulus):\n",
        "    numbers = {'0','1','2','3','4','5','6','7','8','9','+', '-', '*', '/'}\n",
        "    state = ''\n",
        "    if len(set(stimulus).intersection(numbers))>len(stimulus)//2:\n",
        "      state = 'counting'\n",
        "    elif stimulus[-1] == '?':\n",
        "      state = 'thinking'\n",
        "    elif len(stimulus) < 15:\n",
        "      state = 'creating'\n",
        "    else:\n",
        "      state = 'retrieval'\n",
        "    return state\n",
        "\n",
        "\n",
        "################### Defining the cognitive state\n",
        "\n",
        "\n",
        "def retrieval(stimulus):\n",
        "    len_stimulus = len(stimulus) + len(stimulus) // 10\n",
        "    if len_stimulus <= 100:\n",
        "      len_stimulus = len(stimulus)\n",
        "    b = len_stimulus // 3\n",
        "    return len_stimulus, b\n",
        "\n",
        "def counting(stimulus):\n",
        "    len_stimulus = len(stimulus) + len(stimulus) / 100 * 10\n",
        "    b = len_stimulus // 6\n",
        "    return len_stimulus, b\n",
        "\n",
        "def thinking(stimulus):\n",
        "    len_stimulus = len(stimulus)\n",
        "    b = len_stimulus // 4\n",
        "    return len_stimulus, b\n",
        "\n",
        "def creating(stimulus):\n",
        "    len_stimulus = len(stimulus) + len(stimulus) / 100 * 10\n",
        "    b = len_stimulus // 6\n",
        "    return len_stimulus, b\n",
        "\n",
        "################### Defining behaviour cognitive results (output)\n",
        "\n",
        "\n",
        "def eye_movements(stimulus):\n",
        "    current_fix_duration = len(stimulus) // 1,5\n",
        "    current_sac_peak_velocity = len(stimulus) // 1,6\n",
        "    return current_fix_duration\n",
        "    return current_sac_peak_velocity\n",
        "\n",
        "def fixmap_probability_output(len_stimulus, b):\n",
        "    from PIL import Image, ImageDraw\n",
        "\n",
        "    im = Image.new('RGB', (500, 300), (0, 0, 0))\n",
        "    draw = ImageDraw.Draw(im)\n",
        "    if b!=0:\n",
        "      a = len_stimulus // b\n",
        "    else:\n",
        "      b = 2\n",
        "      a = len_stimulus // b\n",
        "    x1 = (500 - a) // 4\n",
        "    y1 = (300 - b) // 2\n",
        "    x2 = 500 - x1\n",
        "    y2 = 300 - y1\n",
        "\n",
        "    draw.ellipse((x1, y1, x2, y2), fill='red', outline=(0, 0, 0))\n",
        "    im.save('output2.jpg', quality=95)\n",
        "\n",
        "\n",
        "################### Trial start\n",
        "\n",
        "def start_trial():\n",
        "\n",
        "\n",
        "  with open(\"stimulus1.txt\", \"r\") as file:\n",
        "      stimulus = file.read()\n",
        "\n",
        "  classification_state = stimulus_classification(stimulus)\n",
        "\n",
        "  if classification_state == 'counting':\n",
        "    output_len, b = counting(stimulus)\n",
        "  elif classification_state == 'thinking':\n",
        "    output_len, b = thinking(stimulus)\n",
        "  elif classification_state == 'creating':\n",
        "    output_len, b = creating(stimulus)\n",
        "  elif classification_state == 'retrieval':\n",
        "    output_len, b = retrieval(stimulus)\n",
        "\n",
        "  current_fix_duration, current_sac_peak_velocity = eye_movements(stimulus)\n",
        "  fixmap_probability_output(output_len, b)\n",
        "\n",
        "  setup_model(current_fix_duration, current_sac_peak_velocity, stimulus, output_len)\n",
        "\n",
        "\n",
        "start_trial()\n"
      ],
      "metadata": {
        "colab": {
          "base_uri": "https://localhost:8080/"
        },
        "outputId": "c20d8af4-95a1-45b4-b4df-e9aa149251e6",
        "id": "Tuyft8I8Lvm5"
      },
      "execution_count": null,
      "outputs": [
        {
          "output_type": "stream",
          "name": "stdout",
          "text": [
            "The task is \"8 + 7\"\n",
            "\n",
            "The possible reflection square is about 5.5\n",
            "Probable fixation duration is about 5\n",
            "Probable saccade peak velocity is about 5\n"
          ]
        }
      ]
    }
  ]
}